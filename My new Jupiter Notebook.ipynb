{
 "cells": [
  {
   "cell_type": "code",
   "execution_count": 1,
   "id": "a7cf9ed2",
   "metadata": {},
   "outputs": [
    {
     "name": "stdout",
     "output_type": "stream",
     "text": [
      "Hello World!\n"
     ]
    }
   ],
   "source": [
    "print(\"Hello World!\")"
   ]
  }
 ],
 "metadata": {
  "interpreter": {
   "hash": "5cd22264d31b9665740bc6a20f8b1c45e4b08a52174b6ac6787ec0ad0117b5e2"
  },
  "kernelspec": {
   "display_name": "Python 3.9.7 64-bit ('data-science-env': conda)",
   "name": "python3"
  },
  "language_info": {
   "codemirror_mode": {
    "name": "ipython",
    "version": 3
   },
   "file_extension": ".py",
   "mimetype": "text/x-python",
   "name": "python",
   "nbconvert_exporter": "python",
   "pygments_lexer": "ipython3",
   "version": "3.9.7"
  }
 },
 "nbformat": 4,
 "nbformat_minor": 5
}
